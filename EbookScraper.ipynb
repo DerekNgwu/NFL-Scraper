{
  "metadata": {
    "language_info": {
      "name": ""
    },
    "kernelspec": {
      "name": "python",
      "display_name": "Python (Pyodide)",
      "language": "python"
    }
  },
  "nbformat_minor": 4,
  "nbformat": 4,
  "cells": [
    {
      "cell_type": "code",
      "source": "import requests\nfrom bs4 import BeautifulSoup",
      "metadata": {
        "trusted": true
      },
      "execution_count": null,
      "outputs": []
    },
    {
      "cell_type": "code",
      "source": "URL = \"https://www.ebooks.com/en-us/subjects/drama/\"\npage = requests.get(URL)\nsoup = BeautifulSoup(page.content, 'html.parser')\n",
      "metadata": {
        "trusted": true
      },
      "execution_count": null,
      "outputs": []
    },
    {
      "cell_type": "code",
      "source": "results = soup.find(id='searchResults')\nbooks = results.find_all('div', class_='item')",
      "metadata": {
        "trusted": true
      },
      "execution_count": null,
      "outputs": []
    },
    {
      "cell_type": "code",
      "source": "with open('ebooks.csv', 'w', newline='') as csv_file:\n    writer = csv.writer(csv_file)\n    writer.writerow(['Title', 'Price'])\n    for book in books:\n        title = book.find('h3').get_text()\n        price = book.find('span', class_='price-text').get_text()\n        writer.writerow([title, price])",
      "metadata": {
        "trusted": true
      },
      "execution_count": null,
      "outputs": []
    }
  ]
}